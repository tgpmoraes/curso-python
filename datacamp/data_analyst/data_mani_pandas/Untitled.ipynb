{
 "cells": [
  {
   "cell_type": "code",
   "execution_count": 3,
   "id": "d7de3f62",
   "metadata": {},
   "outputs": [],
   "source": [
    "import pandas as pd\n",
    "import os"
   ]
  },
  {
   "cell_type": "code",
   "execution_count": 4,
   "id": "eea133bb",
   "metadata": {},
   "outputs": [],
   "source": [
    "curso_dir = 'C:\\\\Users\\\\tiagog\\\\Documents\\\\curso-python'\n",
    "data_dir = curso_dir + '\\\\datacamp\\\\data_analyst\\\\data_mani_pandas'\n",
    "os.chdir(data_dir)"
   ]
  },
  {
   "cell_type": "code",
   "execution_count": 5,
   "id": "79faa3a6",
   "metadata": {},
   "outputs": [],
   "source": [
    "temperatures = pd.read_csv('temperature_clean.csv')"
   ]
  },
  {
   "cell_type": "code",
   "execution_count": 6,
   "id": "640c7310",
   "metadata": {},
   "outputs": [],
   "source": [
    "# Index temperatures by country & city\n",
    "temperatures_ind = temperatures.set_index(['Country', 'City'])"
   ]
  },
  {
   "cell_type": "code",
   "execution_count": 7,
   "id": "a5ea946a",
   "metadata": {},
   "outputs": [],
   "source": [
    "# List of tuples: Brazil, Rio De Janeiro & Pakistan, Islamabad\n",
    "rows_to_keep = [('Brazil', 'Rio de Janeiro'), ('Pakistan', 'Islamabad')]"
   ]
  },
  {
   "cell_type": "code",
   "execution_count": 8,
   "id": "7a3d5ee2",
   "metadata": {},
   "outputs": [
    {
     "name": "stdout",
     "output_type": "stream",
     "text": [
      "                         Unnamed: 0  Month  Day  Year  AvgTemperature  \\\n",
      "Country  City                                                           \n",
      "Brazil   Rio de Janeiro     1293867      1    1  2000            76.3   \n",
      "         Rio de Janeiro     1293868      1    2  2000            75.3   \n",
      "         Rio de Janeiro     1293869      1    3  2000            73.3   \n",
      "         Rio de Janeiro     1293870      1    4  2000            79.2   \n",
      "         Rio de Janeiro     1293871      1    5  2000            80.1   \n",
      "...                             ...    ...  ...   ...             ...   \n",
      "Pakistan Islamabad           466644     12   27  2013            48.5   \n",
      "         Islamabad           466645     12   28  2013            48.6   \n",
      "         Islamabad           466646     12   29  2013            44.9   \n",
      "         Islamabad           466647     12   30  2013            46.9   \n",
      "         Islamabad           466648     12   31  2013            42.6   \n",
      "\n",
      "                               date  \n",
      "Country  City                        \n",
      "Brazil   Rio de Janeiro  2000-01-01  \n",
      "         Rio de Janeiro  2000-01-02  \n",
      "         Rio de Janeiro  2000-01-03  \n",
      "         Rio de Janeiro  2000-01-04  \n",
      "         Rio de Janeiro  2000-01-05  \n",
      "...                             ...  \n",
      "Pakistan Islamabad       2013-12-27  \n",
      "         Islamabad       2013-12-28  \n",
      "         Islamabad       2013-12-29  \n",
      "         Islamabad       2013-12-30  \n",
      "         Islamabad       2013-12-31  \n",
      "\n",
      "[10228 rows x 6 columns]\n"
     ]
    }
   ],
   "source": [
    "# Subset for rows to keep\n",
    "print(temperatures_ind.loc[rows_to_keep])"
   ]
  },
  {
   "cell_type": "code",
   "execution_count": 9,
   "id": "4a204ad2",
   "metadata": {},
   "outputs": [
    {
     "name": "stdout",
     "output_type": "stream",
     "text": [
      "                Unnamed: 0  Month  Day  Year  AvgTemperature        date\n",
      "Country City                                                            \n",
      "Albania Tirana      625203      1    1  2000           -99.0  2000-01-01\n",
      "        Tirana      625204      1    2  2000            33.8  2000-01-02\n",
      "        Tirana      625205      1    3  2000            35.6  2000-01-03\n",
      "        Tirana      625206      1    4  2000            36.5  2000-01-04\n",
      "        Tirana      625207      1    5  2000            37.4  2000-01-05\n",
      "...                    ...    ...  ...   ...             ...         ...\n",
      "Zambia  Lusaka      251091     12   27  2013            76.6  2013-12-27\n",
      "        Lusaka      251092     12   28  2013            74.2  2013-12-28\n",
      "        Lusaka      251093     12   29  2013            71.6  2013-12-29\n",
      "        Lusaka      251094     12   30  2013            68.5  2013-12-30\n",
      "        Lusaka      251095     12   31  2013            69.6  2013-12-31\n",
      "\n",
      "[1628683 rows x 6 columns]\n"
     ]
    }
   ],
   "source": [
    "# Sort temperatures_ind by index values\n",
    "print(temperatures_ind.sort_index())"
   ]
  },
  {
   "cell_type": "code",
   "execution_count": 10,
   "id": "f5e79f38",
   "metadata": {},
   "outputs": [
    {
     "name": "stdout",
     "output_type": "stream",
     "text": [
      "                     Unnamed: 0  Month  Day  Year  AvgTemperature        date\n",
      "Country     City                                                             \n",
      "Ivory Coast Abidjan       98325      1    1  2000            80.7  2000-01-01\n",
      "            Abidjan       98326      1    2  2000            78.1  2000-01-02\n",
      "            Abidjan       98327      1    3  2000            79.0  2000-01-03\n",
      "            Abidjan       98328      1    4  2000            80.4  2000-01-04\n",
      "            Abidjan       98329      1    5  2000            79.8  2000-01-05\n",
      "...                         ...    ...  ...   ...             ...         ...\n",
      "Switzerland Zurich       965972     12   27  2013            35.2  2013-12-27\n",
      "            Zurich       965973     12   28  2013            38.4  2013-12-28\n",
      "            Zurich       965974     12   29  2013            38.8  2013-12-29\n",
      "            Zurich       965975     12   30  2013            34.1  2013-12-30\n",
      "            Zurich       965976     12   31  2013            32.9  2013-12-31\n",
      "\n",
      "[1628683 rows x 6 columns]\n"
     ]
    }
   ],
   "source": [
    "# Sort temperatures_ind by index values at the city level\n",
    "print(temperatures_ind.sort_index(level='City'))"
   ]
  },
  {
   "cell_type": "code",
   "execution_count": null,
   "id": "f34b2d64",
   "metadata": {},
   "outputs": [],
   "source": []
  }
 ],
 "metadata": {
  "kernelspec": {
   "display_name": "Python 3.9.6 64-bit",
   "language": "python",
   "name": "python396jvsc74a57bd0e50c15cea31af081289a316c6e540153ff86c77232b9af0dfa83b60debb62683"
  },
  "language_info": {
   "codemirror_mode": {
    "name": "ipython",
    "version": 3
   },
   "file_extension": ".py",
   "mimetype": "text/x-python",
   "name": "python",
   "nbconvert_exporter": "python",
   "pygments_lexer": "ipython3",
   "version": "3.9.6"
  }
 },
 "nbformat": 4,
 "nbformat_minor": 5
}
