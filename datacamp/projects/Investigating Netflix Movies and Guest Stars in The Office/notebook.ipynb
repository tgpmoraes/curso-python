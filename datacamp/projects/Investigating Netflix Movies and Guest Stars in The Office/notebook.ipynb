{
 "cells": [
  {
   "cell_type": "markdown",
   "metadata": {
    "dc": {
     "key": "4"
    },
    "deletable": false,
    "editable": false,
    "run_control": {
     "frozen": true
    },
    "tags": [
     "context"
    ]
   },
   "source": [
    "## 1. Welcome!\n",
    "<p><img src=\"https://assets.datacamp.com/production/project_1170/img/office_cast.jpeg\" alt=\"Markdown\">.</p>\n",
    "<p><strong>The Office!</strong> What started as a British mockumentary series about office culture in 2001 has since spawned ten other variants across the world, including an Israeli version (2010-13), a Hindi version (2019-), and even a French Canadian variant (2006-2007). Of all these iterations (including the original), the American series has been the longest-running, spanning 201 episodes over nine seasons.</p>\n",
    "<p>In this notebook, we will take a look at a dataset of The Office episodes, and try to understand how the popularity and quality of the series varied over time. To do so, we will use the following dataset: <code>datasets/office_episodes.csv</code>, which was downloaded from Kaggle <a href=\"https://www.kaggle.com/nehaprabhavalkar/the-office-dataset\">here</a>.</p>\n",
    "<p>This dataset contains information on a variety of characteristics of each episode. In detail, these are:\n",
    "<br></p>\n",
    "<div style=\"background-color: #efebe4; color: #05192d; text-align:left; vertical-align: middle; padding: 15px 25px 15px 25px; line-height: 1.6;\">\n",
    "    <div style=\"font-size:20px\"><b>datasets/office_episodes.csv</b></div>\n",
    "<ul>\n",
    "    <li><b>episode_number:</b> Canonical episode number.</li>\n",
    "    <li><b>season:</b> Season in which the episode appeared.</li>\n",
    "    <li><b>episode_title:</b> Title of the episode.</li>\n",
    "    <li><b>description:</b> Description of the episode.</li>\n",
    "    <li><b>ratings:</b> Average IMDB rating.</li>\n",
    "    <li><b>votes:</b> Number of votes.</li>\n",
    "    <li><b>viewership_mil:</b> Number of US viewers in millions.</li>\n",
    "    <li><b>duration:</b> Duration in number of minutes.</li>\n",
    "    <li><b>release_date:</b> Airdate.</li>\n",
    "    <li><b>guest_stars:</b> Guest stars in the episode (if any).</li>\n",
    "    <li><b>director:</b> Director of the episode.</li>\n",
    "    <li><b>writers:</b> Writers of the episode.</li>\n",
    "    <li><b>has_guests:</b> True/False column for whether the episode contained guest stars.</li>\n",
    "    <li><b>scaled_ratings:</b> The ratings scaled from 0 (worst-reviewed) to 1 (best-reviewed).</li>\n",
    "</ul>\n",
    "    </div>"
   ]
  },
  {
   "cell_type": "code",
   "execution_count": 2,
   "metadata": {
    "dc": {
     "key": "4"
    },
    "tags": [
     "sample_code"
    ]
   },
   "outputs": [],
   "source": [
    "# Use this cell to begin your analysis, and add as many as you would like!\n",
    "import matplotlib.pyplot as plt\n",
    "import pandas as pd\n",
    "\n",
    "office = pd.read_csv('datasets/office_episodes.csv')\n",
    "office['color_ratings'] = office['scaled_ratings'].apply(\n",
    "    lambda r: 'red' if r < 0.25 else\n",
    "    ('orange' if r >= 0.25 and r < 0.5 else\n",
    "     ('lightgreen' if r >= 0.5 and r < 0.75 else 'darkgreen')\n",
    "     )\n",
    ")"
   ]
  },
  {
   "cell_type": "code",
   "execution_count": 3,
   "metadata": {
    "dc": {
     "key": "4"
    }
   },
   "outputs": [],
   "source": [
    "office['sized_system'] = office['has_guests'].apply(\n",
    "    lambda g: 250 if g else 25)"
   ]
  },
  {
   "cell_type": "code",
   "execution_count": 4,
   "metadata": {
    "dc": {
     "key": "4"
    }
   },
   "outputs": [],
   "source": [
    "office_guests = office[office['has_guests'] == True]\n",
    "office_no_guests = office[office['has_guests'] == False]"
   ]
  },
  {
   "cell_type": "code",
   "execution_count": 5,
   "metadata": {
    "dc": {
     "key": "4"
    },
    "scrolled": true
   },
   "outputs": [
    {
     "data": {
      "image/png": "[encoded data removed]",
      "text/plain": [
       "<Figure size 432x288 with 1 Axes>"
      ]
     },
     "metadata": {
      "needs_background": "light"
     },
     "output_type": "display_data"
    }
   ],
   "source": [
    "# Create a scatter plot of the data from the DataFrame cellphone\n",
    "fig, ax = plt.subplots()\n",
    "\n",
    "\n",
    "colors_classes = ['Ratings < 0.25',\n",
    "                  'Ratings >= 0.25 and < 0.50',\n",
    "                  'Ratings >= 0.50 and < 0.75',\n",
    "                  'Ratings >= 0.75']\n",
    "\n",
    "ax.scatter(office_guests.episode_number, office_guests.viewership_mil,\n",
    "            color=office_guests.color_ratings,\n",
    "            marker='*',\n",
    "            s=office_guests.sized_system)\n",
    "\n",
    "scatter = ax.scatter(office_no_guests.episode_number, office_no_guests.viewership_mil,\n",
    "            color=office_no_guests.color_ratings,\n",
    "            marker='s',\n",
    "            s=office_no_guests.sized_system)\n",
    "\n",
    "# Add labels\n",
    "plt.ylabel('Viewership (Millions)')\n",
    "plt.xlabel('Episode Number')\n",
    "\n",
    "plt.title('Popularity, Quality, and Guest Appearances on the Office')\n",
    "\n",
    "plt.rcParams['figure.figsize'] = [11, 7]\n",
    "\n",
    "#add legend with class names\n",
    "\"\"\"\n",
    "legend = ax.legend(*scatter.legend_elements(),\n",
    "                   labels=colors_classes,\n",
    "                   loc=\"upper right\",\n",
    "                   title=\"Color Ratings\")\n",
    "\n",
    "ax.add_artist(legend)\n",
    "\"\"\"\n",
    "\n",
    "# Display the plot\n",
    "plt.show()"
   ]
  },
  {
   "cell_type": "code",
   "execution_count": 6,
   "metadata": {
    "dc": {
     "key": "4"
    }
   },
   "outputs": [],
   "source": [
    "top_star_row = office[office['viewership_mil'] == office['viewership_mil'].max()]\n",
    "top_star = top_star_row['guest_stars'].values.tolist()[0].strip().split(',')[0]"
   ]
  },
  {
   "cell_type": "code",
   "execution_count": 7,
   "metadata": {
    "dc": {
     "key": "4"
    }
   },
   "outputs": [
    {
     "name": "stdout",
     "output_type": "stream",
     "text": [
      "77    Cloris Leachman, Jack Black, Jessica Alba\n",
      "Name: guest_stars, dtype: object\n"
     ]
    }
   ],
   "source": [
    "print(top_star_row['guest_stars'])"
   ]
  }
 ],
 "metadata": {
  "kernelspec": {
   "display_name": "Python 3",
   "language": "python",
   "name": "python3"
  },
  "language_info": {
   "codemirror_mode": {
    "name": "ipython",
    "version": 3
   },
   "file_extension": ".py",
   "mimetype": "text/x-python",
   "name": "python",
   "nbconvert_exporter": "python",
   "pygments_lexer": "ipython3",
   "version": "3.8.8"
  }
 },
 "nbformat": 4,
 "nbformat_minor": 2
}
